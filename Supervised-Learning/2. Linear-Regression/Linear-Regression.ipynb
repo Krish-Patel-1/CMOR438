{
 "cells": [
  {
   "cell_type": "markdown",
   "id": "b425a569",
   "metadata": {},
   "source": [
    "# Linear Regression Implementation using Stocks\n",
    "I will be using a stock, specifically NVIDIA or NVDA, to show linear regression. I will use the yfinance tool to extract data for NVIDIA's performance and use that to train the algorithm to determine the next closing prices.\n",
    "\n",
    "This is important because NVIDIA is a hot stock right now that everyone wants to buy. It's a known fact that no one can predict what the market will do, so we will try and figure out what the stock price will do using linear regression."
   ]
  },
  {
   "cell_type": "code",
   "execution_count": 55,
   "id": "ab2c9e9f",
   "metadata": {},
   "outputs": [],
   "source": [
    "import numpy as np\n",
    "import matplotlib.pyplot as plt\n",
    "from numpy import random\n",
    "import matplotlib.pyplot as plt\n",
    "import pandas as pd\n",
    "import pandas_datareader as web\n",
    "import plotly.express as px\n",
    "from scipy import stats\n",
    "import statsmodels.api as sm\n",
    "import yfinance as yf\n",
    "from matplotlib.pyplot import figure\n"
   ]
  },
  {
   "cell_type": "markdown",
   "id": "e215817b",
   "metadata": {},
   "source": [
    "I first extract stock prices for all of 2024 for training purposes."
   ]
  },
  {
   "cell_type": "code",
   "execution_count": 56,
   "id": "e7688df4",
   "metadata": {},
   "outputs": [
    {
     "name": "stderr",
     "output_type": "stream",
     "text": [
      "/var/folders/7t/w17knfdn36n_njq1kn6ytj_h0000gn/T/ipykernel_7641/3969938101.py:1: FutureWarning:\n",
      "\n",
      "YF.download() has changed argument auto_adjust default to True\n",
      "\n",
      "[*********************100%***********************]  1 of 1 completed\n"
     ]
    },
    {
     "data": {
      "text/html": [
       "<div>\n",
       "<style scoped>\n",
       "    .dataframe tbody tr th:only-of-type {\n",
       "        vertical-align: middle;\n",
       "    }\n",
       "\n",
       "    .dataframe tbody tr th {\n",
       "        vertical-align: top;\n",
       "    }\n",
       "\n",
       "    .dataframe thead tr th {\n",
       "        text-align: left;\n",
       "    }\n",
       "\n",
       "    .dataframe thead tr:last-of-type th {\n",
       "        text-align: right;\n",
       "    }\n",
       "</style>\n",
       "<table border=\"1\" class=\"dataframe\">\n",
       "  <thead>\n",
       "    <tr>\n",
       "      <th>Price</th>\n",
       "      <th>Close</th>\n",
       "      <th>High</th>\n",
       "      <th>Low</th>\n",
       "      <th>Open</th>\n",
       "      <th>Volume</th>\n",
       "    </tr>\n",
       "    <tr>\n",
       "      <th>Ticker</th>\n",
       "      <th>NVDA</th>\n",
       "      <th>NVDA</th>\n",
       "      <th>NVDA</th>\n",
       "      <th>NVDA</th>\n",
       "      <th>NVDA</th>\n",
       "    </tr>\n",
       "    <tr>\n",
       "      <th>Date</th>\n",
       "      <th></th>\n",
       "      <th></th>\n",
       "      <th></th>\n",
       "      <th></th>\n",
       "      <th></th>\n",
       "    </tr>\n",
       "  </thead>\n",
       "  <tbody>\n",
       "    <tr>\n",
       "      <th>2024-01-02</th>\n",
       "      <td>48.146576</td>\n",
       "      <td>49.273074</td>\n",
       "      <td>47.573833</td>\n",
       "      <td>49.222098</td>\n",
       "      <td>411254000</td>\n",
       "    </tr>\n",
       "    <tr>\n",
       "      <th>2024-01-03</th>\n",
       "      <td>47.547836</td>\n",
       "      <td>48.162561</td>\n",
       "      <td>47.298947</td>\n",
       "      <td>47.463874</td>\n",
       "      <td>320896000</td>\n",
       "    </tr>\n",
       "    <tr>\n",
       "      <th>2024-01-04</th>\n",
       "      <td>47.976654</td>\n",
       "      <td>48.478430</td>\n",
       "      <td>47.486870</td>\n",
       "      <td>47.745754</td>\n",
       "      <td>306535000</td>\n",
       "    </tr>\n",
       "    <tr>\n",
       "      <th>2024-01-05</th>\n",
       "      <td>49.075161</td>\n",
       "      <td>49.524962</td>\n",
       "      <td>48.284512</td>\n",
       "      <td>48.440445</td>\n",
       "      <td>415039000</td>\n",
       "    </tr>\n",
       "    <tr>\n",
       "      <th>2024-01-08</th>\n",
       "      <td>52.229755</td>\n",
       "      <td>52.251749</td>\n",
       "      <td>49.456991</td>\n",
       "      <td>49.489977</td>\n",
       "      <td>642510000</td>\n",
       "    </tr>\n",
       "  </tbody>\n",
       "</table>\n",
       "</div>"
      ],
      "text/plain": [
       "Price           Close       High        Low       Open     Volume\n",
       "Ticker           NVDA       NVDA       NVDA       NVDA       NVDA\n",
       "Date                                                             \n",
       "2024-01-02  48.146576  49.273074  47.573833  49.222098  411254000\n",
       "2024-01-03  47.547836  48.162561  47.298947  47.463874  320896000\n",
       "2024-01-04  47.976654  48.478430  47.486870  47.745754  306535000\n",
       "2024-01-05  49.075161  49.524962  48.284512  48.440445  415039000\n",
       "2024-01-08  52.229755  52.251749  49.456991  49.489977  642510000"
      ]
     },
     "execution_count": 56,
     "metadata": {},
     "output_type": "execute_result"
    }
   ],
   "source": [
    "data = yf.download('NVDA', start = '2024-01-01', end = '2024-12-31')\n",
    "data.head()"
   ]
  },
  {
   "cell_type": "markdown",
   "id": "64d747e1",
   "metadata": {},
   "source": [
    "Now I clean the data and to display closing prices."
   ]
  },
  {
   "cell_type": "code",
   "execution_count": 57,
   "id": "3077d228",
   "metadata": {},
   "outputs": [
    {
     "data": {
      "text/html": [
       "<div>\n",
       "<style scoped>\n",
       "    .dataframe tbody tr th:only-of-type {\n",
       "        vertical-align: middle;\n",
       "    }\n",
       "\n",
       "    .dataframe tbody tr th {\n",
       "        vertical-align: top;\n",
       "    }\n",
       "\n",
       "    .dataframe thead th {\n",
       "        text-align: right;\n",
       "    }\n",
       "</style>\n",
       "<table border=\"1\" class=\"dataframe\">\n",
       "  <thead>\n",
       "    <tr style=\"text-align: right;\">\n",
       "      <th></th>\n",
       "      <th>Close</th>\n",
       "      <th>lag_1</th>\n",
       "      <th>lag_2</th>\n",
       "      <th>lag_3</th>\n",
       "      <th>lag_4</th>\n",
       "      <th>lag_5</th>\n",
       "      <th>lag_6</th>\n",
       "      <th>lag_7</th>\n",
       "    </tr>\n",
       "    <tr>\n",
       "      <th>Date</th>\n",
       "      <th></th>\n",
       "      <th></th>\n",
       "      <th></th>\n",
       "      <th></th>\n",
       "      <th></th>\n",
       "      <th></th>\n",
       "      <th></th>\n",
       "      <th></th>\n",
       "    </tr>\n",
       "  </thead>\n",
       "  <tbody>\n",
       "    <tr>\n",
       "      <th>2024-01-02</th>\n",
       "      <td>48.146576</td>\n",
       "      <td>NaN</td>\n",
       "      <td>NaN</td>\n",
       "      <td>NaN</td>\n",
       "      <td>NaN</td>\n",
       "      <td>NaN</td>\n",
       "      <td>NaN</td>\n",
       "      <td>NaN</td>\n",
       "    </tr>\n",
       "    <tr>\n",
       "      <th>2024-01-03</th>\n",
       "      <td>47.547836</td>\n",
       "      <td>48.146576</td>\n",
       "      <td>NaN</td>\n",
       "      <td>NaN</td>\n",
       "      <td>NaN</td>\n",
       "      <td>NaN</td>\n",
       "      <td>NaN</td>\n",
       "      <td>NaN</td>\n",
       "    </tr>\n",
       "    <tr>\n",
       "      <th>2024-01-04</th>\n",
       "      <td>47.976654</td>\n",
       "      <td>47.547836</td>\n",
       "      <td>48.146576</td>\n",
       "      <td>NaN</td>\n",
       "      <td>NaN</td>\n",
       "      <td>NaN</td>\n",
       "      <td>NaN</td>\n",
       "      <td>NaN</td>\n",
       "    </tr>\n",
       "    <tr>\n",
       "      <th>2024-01-05</th>\n",
       "      <td>49.075161</td>\n",
       "      <td>47.976654</td>\n",
       "      <td>47.547836</td>\n",
       "      <td>48.146576</td>\n",
       "      <td>NaN</td>\n",
       "      <td>NaN</td>\n",
       "      <td>NaN</td>\n",
       "      <td>NaN</td>\n",
       "    </tr>\n",
       "    <tr>\n",
       "      <th>2024-01-08</th>\n",
       "      <td>52.229755</td>\n",
       "      <td>49.075161</td>\n",
       "      <td>47.976654</td>\n",
       "      <td>47.547836</td>\n",
       "      <td>48.146576</td>\n",
       "      <td>NaN</td>\n",
       "      <td>NaN</td>\n",
       "      <td>NaN</td>\n",
       "    </tr>\n",
       "    <tr>\n",
       "      <th>2024-01-09</th>\n",
       "      <td>53.116364</td>\n",
       "      <td>52.229755</td>\n",
       "      <td>49.075161</td>\n",
       "      <td>47.976654</td>\n",
       "      <td>47.547836</td>\n",
       "      <td>48.146576</td>\n",
       "      <td>NaN</td>\n",
       "      <td>NaN</td>\n",
       "    </tr>\n",
       "    <tr>\n",
       "      <th>2024-01-10</th>\n",
       "      <td>54.325821</td>\n",
       "      <td>53.116364</td>\n",
       "      <td>52.229755</td>\n",
       "      <td>49.075161</td>\n",
       "      <td>47.976654</td>\n",
       "      <td>47.547836</td>\n",
       "      <td>48.146576</td>\n",
       "      <td>NaN</td>\n",
       "    </tr>\n",
       "    <tr>\n",
       "      <th>2024-01-11</th>\n",
       "      <td>54.797615</td>\n",
       "      <td>54.325821</td>\n",
       "      <td>53.116364</td>\n",
       "      <td>52.229755</td>\n",
       "      <td>49.075161</td>\n",
       "      <td>47.976654</td>\n",
       "      <td>47.547836</td>\n",
       "      <td>48.146576</td>\n",
       "    </tr>\n",
       "    <tr>\n",
       "      <th>2024-01-12</th>\n",
       "      <td>54.685658</td>\n",
       "      <td>54.797615</td>\n",
       "      <td>54.325821</td>\n",
       "      <td>53.116364</td>\n",
       "      <td>52.229755</td>\n",
       "      <td>49.075161</td>\n",
       "      <td>47.976654</td>\n",
       "      <td>47.547836</td>\n",
       "    </tr>\n",
       "    <tr>\n",
       "      <th>2024-01-16</th>\n",
       "      <td>56.356922</td>\n",
       "      <td>54.685658</td>\n",
       "      <td>54.797615</td>\n",
       "      <td>54.325821</td>\n",
       "      <td>53.116364</td>\n",
       "      <td>52.229755</td>\n",
       "      <td>49.075161</td>\n",
       "      <td>47.976654</td>\n",
       "    </tr>\n",
       "  </tbody>\n",
       "</table>\n",
       "</div>"
      ],
      "text/plain": [
       "                Close      lag_1      lag_2      lag_3      lag_4      lag_5  \\\n",
       "Date                                                                           \n",
       "2024-01-02  48.146576        NaN        NaN        NaN        NaN        NaN   \n",
       "2024-01-03  47.547836  48.146576        NaN        NaN        NaN        NaN   \n",
       "2024-01-04  47.976654  47.547836  48.146576        NaN        NaN        NaN   \n",
       "2024-01-05  49.075161  47.976654  47.547836  48.146576        NaN        NaN   \n",
       "2024-01-08  52.229755  49.075161  47.976654  47.547836  48.146576        NaN   \n",
       "2024-01-09  53.116364  52.229755  49.075161  47.976654  47.547836  48.146576   \n",
       "2024-01-10  54.325821  53.116364  52.229755  49.075161  47.976654  47.547836   \n",
       "2024-01-11  54.797615  54.325821  53.116364  52.229755  49.075161  47.976654   \n",
       "2024-01-12  54.685658  54.797615  54.325821  53.116364  52.229755  49.075161   \n",
       "2024-01-16  56.356922  54.685658  54.797615  54.325821  53.116364  52.229755   \n",
       "\n",
       "                lag_6      lag_7  \n",
       "Date                              \n",
       "2024-01-02        NaN        NaN  \n",
       "2024-01-03        NaN        NaN  \n",
       "2024-01-04        NaN        NaN  \n",
       "2024-01-05        NaN        NaN  \n",
       "2024-01-08        NaN        NaN  \n",
       "2024-01-09        NaN        NaN  \n",
       "2024-01-10  48.146576        NaN  \n",
       "2024-01-11  47.547836  48.146576  \n",
       "2024-01-12  47.976654  47.547836  \n",
       "2024-01-16  49.075161  47.976654  "
      ]
     },
     "execution_count": 57,
     "metadata": {},
     "output_type": "execute_result"
    }
   ],
   "source": [
    "all_df = pd.DataFrame(data[\"Close\"])\n",
    "all_df.columns = ['Close']  \n",
    "\n",
    "for i in range(1, 8):\n",
    "    all_df[f'lag_{i}'] = all_df['Close'].shift(i)\n",
    "\n",
    "all_df.head(10)\n"
   ]
  },
  {
   "cell_type": "markdown",
   "id": "6999f283",
   "metadata": {},
   "source": [
    "We will use 10 days in January to train the model"
   ]
  },
  {
   "cell_type": "code",
   "execution_count": 58,
   "id": "77249005",
   "metadata": {},
   "outputs": [
    {
     "data": {
      "text/html": [
       "<div>\n",
       "<style scoped>\n",
       "    .dataframe tbody tr th:only-of-type {\n",
       "        vertical-align: middle;\n",
       "    }\n",
       "\n",
       "    .dataframe tbody tr th {\n",
       "        vertical-align: top;\n",
       "    }\n",
       "\n",
       "    .dataframe thead th {\n",
       "        text-align: right;\n",
       "    }\n",
       "</style>\n",
       "<table border=\"1\" class=\"dataframe\">\n",
       "  <thead>\n",
       "    <tr style=\"text-align: right;\">\n",
       "      <th></th>\n",
       "      <th>Close</th>\n",
       "      <th>lag_1</th>\n",
       "      <th>lag_2</th>\n",
       "      <th>lag_3</th>\n",
       "      <th>lag_4</th>\n",
       "      <th>lag_5</th>\n",
       "      <th>lag_6</th>\n",
       "      <th>lag_7</th>\n",
       "    </tr>\n",
       "    <tr>\n",
       "      <th>Date</th>\n",
       "      <th></th>\n",
       "      <th></th>\n",
       "      <th></th>\n",
       "      <th></th>\n",
       "      <th></th>\n",
       "      <th></th>\n",
       "      <th></th>\n",
       "      <th></th>\n",
       "    </tr>\n",
       "  </thead>\n",
       "  <tbody>\n",
       "    <tr>\n",
       "      <th>2024-01-11</th>\n",
       "      <td>54.797615</td>\n",
       "      <td>54.325821</td>\n",
       "      <td>53.116364</td>\n",
       "      <td>52.229755</td>\n",
       "      <td>49.075161</td>\n",
       "      <td>47.976654</td>\n",
       "      <td>47.547836</td>\n",
       "      <td>48.146576</td>\n",
       "    </tr>\n",
       "    <tr>\n",
       "      <th>2024-01-12</th>\n",
       "      <td>54.685658</td>\n",
       "      <td>54.797615</td>\n",
       "      <td>54.325821</td>\n",
       "      <td>53.116364</td>\n",
       "      <td>52.229755</td>\n",
       "      <td>49.075161</td>\n",
       "      <td>47.976654</td>\n",
       "      <td>47.547836</td>\n",
       "    </tr>\n",
       "    <tr>\n",
       "      <th>2024-01-16</th>\n",
       "      <td>56.356922</td>\n",
       "      <td>54.685658</td>\n",
       "      <td>54.797615</td>\n",
       "      <td>54.325821</td>\n",
       "      <td>53.116364</td>\n",
       "      <td>52.229755</td>\n",
       "      <td>49.075161</td>\n",
       "      <td>47.976654</td>\n",
       "    </tr>\n",
       "    <tr>\n",
       "      <th>2024-01-17</th>\n",
       "      <td>56.028069</td>\n",
       "      <td>56.356922</td>\n",
       "      <td>54.685658</td>\n",
       "      <td>54.797615</td>\n",
       "      <td>54.325821</td>\n",
       "      <td>53.116364</td>\n",
       "      <td>52.229755</td>\n",
       "      <td>49.075161</td>\n",
       "    </tr>\n",
       "    <tr>\n",
       "      <th>2024-01-18</th>\n",
       "      <td>57.081604</td>\n",
       "      <td>56.028069</td>\n",
       "      <td>56.356922</td>\n",
       "      <td>54.685658</td>\n",
       "      <td>54.797615</td>\n",
       "      <td>54.325821</td>\n",
       "      <td>53.116364</td>\n",
       "      <td>52.229755</td>\n",
       "    </tr>\n",
       "    <tr>\n",
       "      <th>2024-01-19</th>\n",
       "      <td>59.464539</td>\n",
       "      <td>57.081604</td>\n",
       "      <td>56.028069</td>\n",
       "      <td>56.356922</td>\n",
       "      <td>54.685658</td>\n",
       "      <td>54.797615</td>\n",
       "      <td>54.325821</td>\n",
       "      <td>53.116364</td>\n",
       "    </tr>\n",
       "    <tr>\n",
       "      <th>2024-01-22</th>\n",
       "      <td>59.627468</td>\n",
       "      <td>59.464539</td>\n",
       "      <td>57.081604</td>\n",
       "      <td>56.028069</td>\n",
       "      <td>56.356922</td>\n",
       "      <td>54.685658</td>\n",
       "      <td>54.797615</td>\n",
       "      <td>54.325821</td>\n",
       "    </tr>\n",
       "    <tr>\n",
       "      <th>2024-01-23</th>\n",
       "      <td>59.846375</td>\n",
       "      <td>59.627468</td>\n",
       "      <td>59.464539</td>\n",
       "      <td>57.081604</td>\n",
       "      <td>56.028069</td>\n",
       "      <td>56.356922</td>\n",
       "      <td>54.685658</td>\n",
       "      <td>54.797615</td>\n",
       "    </tr>\n",
       "    <tr>\n",
       "      <th>2024-01-24</th>\n",
       "      <td>61.334705</td>\n",
       "      <td>59.846375</td>\n",
       "      <td>59.627468</td>\n",
       "      <td>59.464539</td>\n",
       "      <td>57.081604</td>\n",
       "      <td>56.028069</td>\n",
       "      <td>56.356922</td>\n",
       "      <td>54.685658</td>\n",
       "    </tr>\n",
       "    <tr>\n",
       "      <th>2024-01-25</th>\n",
       "      <td>61.589592</td>\n",
       "      <td>61.334705</td>\n",
       "      <td>59.846375</td>\n",
       "      <td>59.627468</td>\n",
       "      <td>59.464539</td>\n",
       "      <td>57.081604</td>\n",
       "      <td>56.028069</td>\n",
       "      <td>56.356922</td>\n",
       "    </tr>\n",
       "  </tbody>\n",
       "</table>\n",
       "</div>"
      ],
      "text/plain": [
       "                Close      lag_1      lag_2      lag_3      lag_4      lag_5  \\\n",
       "Date                                                                           \n",
       "2024-01-11  54.797615  54.325821  53.116364  52.229755  49.075161  47.976654   \n",
       "2024-01-12  54.685658  54.797615  54.325821  53.116364  52.229755  49.075161   \n",
       "2024-01-16  56.356922  54.685658  54.797615  54.325821  53.116364  52.229755   \n",
       "2024-01-17  56.028069  56.356922  54.685658  54.797615  54.325821  53.116364   \n",
       "2024-01-18  57.081604  56.028069  56.356922  54.685658  54.797615  54.325821   \n",
       "2024-01-19  59.464539  57.081604  56.028069  56.356922  54.685658  54.797615   \n",
       "2024-01-22  59.627468  59.464539  57.081604  56.028069  56.356922  54.685658   \n",
       "2024-01-23  59.846375  59.627468  59.464539  57.081604  56.028069  56.356922   \n",
       "2024-01-24  61.334705  59.846375  59.627468  59.464539  57.081604  56.028069   \n",
       "2024-01-25  61.589592  61.334705  59.846375  59.627468  59.464539  57.081604   \n",
       "\n",
       "                lag_6      lag_7  \n",
       "Date                              \n",
       "2024-01-11  47.547836  48.146576  \n",
       "2024-01-12  47.976654  47.547836  \n",
       "2024-01-16  49.075161  47.976654  \n",
       "2024-01-17  52.229755  49.075161  \n",
       "2024-01-18  53.116364  52.229755  \n",
       "2024-01-19  54.325821  53.116364  \n",
       "2024-01-22  54.797615  54.325821  \n",
       "2024-01-23  54.685658  54.797615  \n",
       "2024-01-24  56.356922  54.685658  \n",
       "2024-01-25  56.028069  56.356922  "
      ]
     },
     "execution_count": 58,
     "metadata": {},
     "output_type": "execute_result"
    }
   ],
   "source": [
    "all_df.dropna(inplace=True)\n",
    "cols = [f'lag_{i}' for i in range(1, 8)]\n",
    "train_df = all_df.iloc[0:180, :]\n",
    "train_df.head(10)"
   ]
  },
  {
   "cell_type": "code",
   "execution_count": 59,
   "id": "e2786644",
   "metadata": {},
   "outputs": [
    {
     "name": "stderr",
     "output_type": "stream",
     "text": [
      "/var/folders/7t/w17knfdn36n_njq1kn6ytj_h0000gn/T/ipykernel_7641/3563350768.py:3: RuntimeWarning:\n",
      "\n",
      "divide by zero encountered in matmul\n",
      "\n",
      "/var/folders/7t/w17knfdn36n_njq1kn6ytj_h0000gn/T/ipykernel_7641/3563350768.py:3: RuntimeWarning:\n",
      "\n",
      "overflow encountered in matmul\n",
      "\n",
      "/var/folders/7t/w17knfdn36n_njq1kn6ytj_h0000gn/T/ipykernel_7641/3563350768.py:3: RuntimeWarning:\n",
      "\n",
      "invalid value encountered in matmul\n",
      "\n"
     ]
    },
    {
     "data": {
      "text/plain": [
       "array([ 0.89352818,  0.18516445, -0.08282097,  0.06451508, -0.13850662,\n",
       "        0.08511332, -0.00421237])"
      ]
     },
     "execution_count": 59,
     "metadata": {},
     "output_type": "execute_result"
    }
   ],
   "source": [
    "X = train_df[cols].to_numpy()\n",
    "y = train_df['Close'].to_numpy()\n",
    "w_hat = np.linalg.inv(X.T@X)@X.T@y\n",
    "w_hat"
   ]
  },
  {
   "cell_type": "code",
   "execution_count": 60,
   "id": "dc657937",
   "metadata": {},
   "outputs": [
    {
     "name": "stderr",
     "output_type": "stream",
     "text": [
      "/var/folders/7t/w17knfdn36n_njq1kn6ytj_h0000gn/T/ipykernel_7641/840875718.py:1: RuntimeWarning:\n",
      "\n",
      "divide by zero encountered in matmul\n",
      "\n",
      "/var/folders/7t/w17knfdn36n_njq1kn6ytj_h0000gn/T/ipykernel_7641/840875718.py:1: RuntimeWarning:\n",
      "\n",
      "overflow encountered in matmul\n",
      "\n",
      "/var/folders/7t/w17knfdn36n_njq1kn6ytj_h0000gn/T/ipykernel_7641/840875718.py:1: RuntimeWarning:\n",
      "\n",
      "invalid value encountered in matmul\n",
      "\n",
      "/var/folders/7t/w17knfdn36n_njq1kn6ytj_h0000gn/T/ipykernel_7641/840875718.py:1: SettingWithCopyWarning:\n",
      "\n",
      "\n",
      "A value is trying to be set on a copy of a slice from a DataFrame.\n",
      "Try using .loc[row_indexer,col_indexer] = value instead\n",
      "\n",
      "See the caveats in the documentation: https://pandas.pydata.org/pandas-docs/stable/user_guide/indexing.html#returning-a-view-versus-a-copy\n",
      "\n",
      "/var/folders/7t/w17knfdn36n_njq1kn6ytj_h0000gn/T/ipykernel_7641/840875718.py:5: SettingWithCopyWarning:\n",
      "\n",
      "\n",
      "A value is trying to be set on a copy of a slice from a DataFrame.\n",
      "Try using .loc[row_indexer,col_indexer] = value instead\n",
      "\n",
      "See the caveats in the documentation: https://pandas.pydata.org/pandas-docs/stable/user_guide/indexing.html#returning-a-view-versus-a-copy\n",
      "\n"
     ]
    },
    {
     "data": {
      "image/png": "[encoded data removed]",
      "text/plain": [
       "<Figure size 1440x640 with 1 Axes>"
      ]
     },
     "metadata": {},
     "output_type": "display_data"
    }
   ],
   "source": [
    "train_df['predicted'] = X@w_hat\n",
    "\n",
    "figure(figsize=(18, 8), dpi=80)\n",
    "plot_data = train_df[['Close', 'predicted']]\n",
    "plot_data['Date'] = plot_data.index\n",
    "plt.plot( 'Date', 'Close', data= plot_data, marker='', markerfacecolor='blue', color='blue', linewidth=2)\n",
    "plt.plot( 'Date','predicted', data=plot_data, marker='', color='red', linewidth=2)\n",
    "plt.legend()\n",
    "plt.title('NVIDIA Stock Price Prediction Curve vs Close Price')\n",
    "plt.show()"
   ]
  },
  {
   "cell_type": "markdown",
   "id": "5e2b116d",
   "metadata": {},
   "source": [
    "Prediction curve is pretty good as the closing and predicted closing prices are pretty similar! Keep in mind this is better for long term investments as the prices are off by a little bit if you look at each day, but mirrors the overall movement very well long term. In other words, this not good for determining the exact price for tomorrow's close, but is good for determining if NVIDIA will be up or down and by roughly how much 6 months from now.\n",
    "\n",
    "Now will move on to the prediction curve with bias."
   ]
  },
  {
   "cell_type": "code",
   "execution_count": 61,
   "id": "f6fb941d",
   "metadata": {},
   "outputs": [
    {
     "name": "stderr",
     "output_type": "stream",
     "text": [
      "/var/folders/7t/w17knfdn36n_njq1kn6ytj_h0000gn/T/ipykernel_7641/3855497709.py:1: SettingWithCopyWarning:\n",
      "\n",
      "\n",
      "A value is trying to be set on a copy of a slice from a DataFrame.\n",
      "Try using .loc[row_indexer,col_indexer] = value instead\n",
      "\n",
      "See the caveats in the documentation: https://pandas.pydata.org/pandas-docs/stable/user_guide/indexing.html#returning-a-view-versus-a-copy\n",
      "\n"
     ]
    },
    {
     "data": {
      "text/html": [
       "<div>\n",
       "<style scoped>\n",
       "    .dataframe tbody tr th:only-of-type {\n",
       "        vertical-align: middle;\n",
       "    }\n",
       "\n",
       "    .dataframe tbody tr th {\n",
       "        vertical-align: top;\n",
       "    }\n",
       "\n",
       "    .dataframe thead th {\n",
       "        text-align: right;\n",
       "    }\n",
       "</style>\n",
       "<table border=\"1\" class=\"dataframe\">\n",
       "  <thead>\n",
       "    <tr style=\"text-align: right;\">\n",
       "      <th></th>\n",
       "      <th>Close</th>\n",
       "      <th>lag_1</th>\n",
       "      <th>lag_2</th>\n",
       "      <th>lag_3</th>\n",
       "      <th>lag_4</th>\n",
       "      <th>lag_5</th>\n",
       "      <th>lag_6</th>\n",
       "      <th>lag_7</th>\n",
       "      <th>predicted</th>\n",
       "      <th>ones</th>\n",
       "    </tr>\n",
       "    <tr>\n",
       "      <th>Date</th>\n",
       "      <th></th>\n",
       "      <th></th>\n",
       "      <th></th>\n",
       "      <th></th>\n",
       "      <th></th>\n",
       "      <th></th>\n",
       "      <th></th>\n",
       "      <th></th>\n",
       "      <th></th>\n",
       "      <th></th>\n",
       "    </tr>\n",
       "  </thead>\n",
       "  <tbody>\n",
       "    <tr>\n",
       "      <th>2024-01-11</th>\n",
       "      <td>54.797615</td>\n",
       "      <td>54.325821</td>\n",
       "      <td>53.116364</td>\n",
       "      <td>52.229755</td>\n",
       "      <td>49.075161</td>\n",
       "      <td>47.976654</td>\n",
       "      <td>47.547836</td>\n",
       "      <td>48.146576</td>\n",
       "      <td>54.416342</td>\n",
       "      <td>1.0</td>\n",
       "    </tr>\n",
       "    <tr>\n",
       "      <th>2024-01-12</th>\n",
       "      <td>54.685658</td>\n",
       "      <td>54.797615</td>\n",
       "      <td>54.325821</td>\n",
       "      <td>53.116364</td>\n",
       "      <td>52.229755</td>\n",
       "      <td>49.075161</td>\n",
       "      <td>47.976654</td>\n",
       "      <td>47.547836</td>\n",
       "      <td>55.078811</td>\n",
       "      <td>1.0</td>\n",
       "    </tr>\n",
       "    <tr>\n",
       "      <th>2024-01-16</th>\n",
       "      <td>56.356922</td>\n",
       "      <td>54.685658</td>\n",
       "      <td>54.797615</td>\n",
       "      <td>54.325821</td>\n",
       "      <td>53.116364</td>\n",
       "      <td>52.229755</td>\n",
       "      <td>49.075161</td>\n",
       "      <td>47.976654</td>\n",
       "      <td>54.677924</td>\n",
       "      <td>1.0</td>\n",
       "    </tr>\n",
       "    <tr>\n",
       "      <th>2024-01-17</th>\n",
       "      <td>56.028069</td>\n",
       "      <td>56.356922</td>\n",
       "      <td>54.685658</td>\n",
       "      <td>54.797615</td>\n",
       "      <td>54.325821</td>\n",
       "      <td>53.116364</td>\n",
       "      <td>52.229755</td>\n",
       "      <td>49.075161</td>\n",
       "      <td>56.330539</td>\n",
       "      <td>1.0</td>\n",
       "    </tr>\n",
       "    <tr>\n",
       "      <th>2024-01-18</th>\n",
       "      <td>57.081604</td>\n",
       "      <td>56.028069</td>\n",
       "      <td>56.356922</td>\n",
       "      <td>54.685658</td>\n",
       "      <td>54.797615</td>\n",
       "      <td>54.325821</td>\n",
       "      <td>53.116364</td>\n",
       "      <td>52.229755</td>\n",
       "      <td>56.280524</td>\n",
       "      <td>1.0</td>\n",
       "    </tr>\n",
       "  </tbody>\n",
       "</table>\n",
       "</div>"
      ],
      "text/plain": [
       "                Close      lag_1      lag_2      lag_3      lag_4      lag_5  \\\n",
       "Date                                                                           \n",
       "2024-01-11  54.797615  54.325821  53.116364  52.229755  49.075161  47.976654   \n",
       "2024-01-12  54.685658  54.797615  54.325821  53.116364  52.229755  49.075161   \n",
       "2024-01-16  56.356922  54.685658  54.797615  54.325821  53.116364  52.229755   \n",
       "2024-01-17  56.028069  56.356922  54.685658  54.797615  54.325821  53.116364   \n",
       "2024-01-18  57.081604  56.028069  56.356922  54.685658  54.797615  54.325821   \n",
       "\n",
       "                lag_6      lag_7  predicted  ones  \n",
       "Date                                               \n",
       "2024-01-11  47.547836  48.146576  54.416342   1.0  \n",
       "2024-01-12  47.976654  47.547836  55.078811   1.0  \n",
       "2024-01-16  49.075161  47.976654  54.677924   1.0  \n",
       "2024-01-17  52.229755  49.075161  56.330539   1.0  \n",
       "2024-01-18  53.116364  52.229755  56.280524   1.0  "
      ]
     },
     "execution_count": 61,
     "metadata": {},
     "output_type": "execute_result"
    }
   ],
   "source": [
    "train_df['ones'] = np.ones(len(train_df['Close']))\n",
    "train_df.head(5)"
   ]
  },
  {
   "cell_type": "code",
   "execution_count": 62,
   "id": "74d9c66f",
   "metadata": {},
   "outputs": [
    {
     "data": {
      "text/html": [
       "<div>\n",
       "<style scoped>\n",
       "    .dataframe tbody tr th:only-of-type {\n",
       "        vertical-align: middle;\n",
       "    }\n",
       "\n",
       "    .dataframe tbody tr th {\n",
       "        vertical-align: top;\n",
       "    }\n",
       "\n",
       "    .dataframe thead th {\n",
       "        text-align: right;\n",
       "    }\n",
       "</style>\n",
       "<table border=\"1\" class=\"dataframe\">\n",
       "  <thead>\n",
       "    <tr style=\"text-align: right;\">\n",
       "      <th></th>\n",
       "      <th>lag_1</th>\n",
       "      <th>lag_2</th>\n",
       "      <th>lag_3</th>\n",
       "      <th>lag_4</th>\n",
       "      <th>lag_5</th>\n",
       "      <th>lag_6</th>\n",
       "      <th>lag_7</th>\n",
       "      <th>ones</th>\n",
       "    </tr>\n",
       "    <tr>\n",
       "      <th>Date</th>\n",
       "      <th></th>\n",
       "      <th></th>\n",
       "      <th></th>\n",
       "      <th></th>\n",
       "      <th></th>\n",
       "      <th></th>\n",
       "      <th></th>\n",
       "      <th></th>\n",
       "    </tr>\n",
       "  </thead>\n",
       "  <tbody>\n",
       "    <tr>\n",
       "      <th>2024-01-11</th>\n",
       "      <td>54.325821</td>\n",
       "      <td>53.116364</td>\n",
       "      <td>52.229755</td>\n",
       "      <td>49.075161</td>\n",
       "      <td>47.976654</td>\n",
       "      <td>47.547836</td>\n",
       "      <td>48.146576</td>\n",
       "      <td>1.0</td>\n",
       "    </tr>\n",
       "    <tr>\n",
       "      <th>2024-01-12</th>\n",
       "      <td>54.797615</td>\n",
       "      <td>54.325821</td>\n",
       "      <td>53.116364</td>\n",
       "      <td>52.229755</td>\n",
       "      <td>49.075161</td>\n",
       "      <td>47.976654</td>\n",
       "      <td>47.547836</td>\n",
       "      <td>1.0</td>\n",
       "    </tr>\n",
       "    <tr>\n",
       "      <th>2024-01-16</th>\n",
       "      <td>54.685658</td>\n",
       "      <td>54.797615</td>\n",
       "      <td>54.325821</td>\n",
       "      <td>53.116364</td>\n",
       "      <td>52.229755</td>\n",
       "      <td>49.075161</td>\n",
       "      <td>47.976654</td>\n",
       "      <td>1.0</td>\n",
       "    </tr>\n",
       "    <tr>\n",
       "      <th>2024-01-17</th>\n",
       "      <td>56.356922</td>\n",
       "      <td>54.685658</td>\n",
       "      <td>54.797615</td>\n",
       "      <td>54.325821</td>\n",
       "      <td>53.116364</td>\n",
       "      <td>52.229755</td>\n",
       "      <td>49.075161</td>\n",
       "      <td>1.0</td>\n",
       "    </tr>\n",
       "    <tr>\n",
       "      <th>2024-01-18</th>\n",
       "      <td>56.028069</td>\n",
       "      <td>56.356922</td>\n",
       "      <td>54.685658</td>\n",
       "      <td>54.797615</td>\n",
       "      <td>54.325821</td>\n",
       "      <td>53.116364</td>\n",
       "      <td>52.229755</td>\n",
       "      <td>1.0</td>\n",
       "    </tr>\n",
       "  </tbody>\n",
       "</table>\n",
       "</div>"
      ],
      "text/plain": [
       "                lag_1      lag_2      lag_3      lag_4      lag_5      lag_6  \\\n",
       "Date                                                                           \n",
       "2024-01-11  54.325821  53.116364  52.229755  49.075161  47.976654  47.547836   \n",
       "2024-01-12  54.797615  54.325821  53.116364  52.229755  49.075161  47.976654   \n",
       "2024-01-16  54.685658  54.797615  54.325821  53.116364  52.229755  49.075161   \n",
       "2024-01-17  56.356922  54.685658  54.797615  54.325821  53.116364  52.229755   \n",
       "2024-01-18  56.028069  56.356922  54.685658  54.797615  54.325821  53.116364   \n",
       "\n",
       "                lag_7  ones  \n",
       "Date                         \n",
       "2024-01-11  48.146576   1.0  \n",
       "2024-01-12  47.547836   1.0  \n",
       "2024-01-16  47.976654   1.0  \n",
       "2024-01-17  49.075161   1.0  \n",
       "2024-01-18  52.229755   1.0  "
      ]
     },
     "execution_count": 62,
     "metadata": {},
     "output_type": "execute_result"
    }
   ],
   "source": [
    "cols = [f'lag_{i}' for i in range (1,8)]\n",
    "cols.append('ones')\n",
    "train_df[cols].head(5)"
   ]
  },
  {
   "cell_type": "markdown",
   "id": "2ceb7ef8",
   "metadata": {},
   "source": [
    "Now add bias"
   ]
  },
  {
   "cell_type": "code",
   "execution_count": 63,
   "id": "2c65d70a",
   "metadata": {},
   "outputs": [
    {
     "name": "stderr",
     "output_type": "stream",
     "text": [
      "/var/folders/7t/w17knfdn36n_njq1kn6ytj_h0000gn/T/ipykernel_7641/922585192.py:2: RuntimeWarning:\n",
      "\n",
      "divide by zero encountered in matmul\n",
      "\n",
      "/var/folders/7t/w17knfdn36n_njq1kn6ytj_h0000gn/T/ipykernel_7641/922585192.py:2: RuntimeWarning:\n",
      "\n",
      "overflow encountered in matmul\n",
      "\n",
      "/var/folders/7t/w17knfdn36n_njq1kn6ytj_h0000gn/T/ipykernel_7641/922585192.py:2: RuntimeWarning:\n",
      "\n",
      "invalid value encountered in matmul\n",
      "\n",
      "/var/folders/7t/w17knfdn36n_njq1kn6ytj_h0000gn/T/ipykernel_7641/922585192.py:3: RuntimeWarning:\n",
      "\n",
      "divide by zero encountered in matmul\n",
      "\n",
      "/var/folders/7t/w17knfdn36n_njq1kn6ytj_h0000gn/T/ipykernel_7641/922585192.py:3: RuntimeWarning:\n",
      "\n",
      "overflow encountered in matmul\n",
      "\n",
      "/var/folders/7t/w17knfdn36n_njq1kn6ytj_h0000gn/T/ipykernel_7641/922585192.py:3: RuntimeWarning:\n",
      "\n",
      "invalid value encountered in matmul\n",
      "\n",
      "/var/folders/7t/w17knfdn36n_njq1kn6ytj_h0000gn/T/ipykernel_7641/922585192.py:3: SettingWithCopyWarning:\n",
      "\n",
      "\n",
      "A value is trying to be set on a copy of a slice from a DataFrame.\n",
      "Try using .loc[row_indexer,col_indexer] = value instead\n",
      "\n",
      "See the caveats in the documentation: https://pandas.pydata.org/pandas-docs/stable/user_guide/indexing.html#returning-a-view-versus-a-copy\n",
      "\n",
      "/var/folders/7t/w17knfdn36n_njq1kn6ytj_h0000gn/T/ipykernel_7641/922585192.py:8: SettingWithCopyWarning:\n",
      "\n",
      "\n",
      "A value is trying to be set on a copy of a slice from a DataFrame.\n",
      "Try using .loc[row_indexer,col_indexer] = value instead\n",
      "\n",
      "See the caveats in the documentation: https://pandas.pydata.org/pandas-docs/stable/user_guide/indexing.html#returning-a-view-versus-a-copy\n",
      "\n"
     ]
    },
    {
     "data": {
      "image/png": "[encoded data removed]",
      "text/plain": [
       "<Figure size 1440x640 with 1 Axes>"
      ]
     },
     "metadata": {},
     "output_type": "display_data"
    }
   ],
   "source": [
    "X_bias = train_df[cols].to_numpy()\n",
    "w_hat_bias = np.linalg.inv(X_bias.T@X_bias)@X_bias.T@y\n",
    "train_df['predicted_bias'] = X_bias@w_hat_bias\n",
    "\n",
    "\n",
    "figure(figsize=(18, 8), dpi=80)\n",
    "plot_data = train_df[['Close', 'predicted', 'predicted_bias']]\n",
    "plot_data['Date'] = plot_data.index\n",
    "plt.plot( 'Date', 'Close', data= plot_data, marker='', markerfacecolor='blue', color='blue', linewidth=2)\n",
    "plt.plot( 'Date','predicted', data=plot_data, marker='', color='red', linewidth=2)\n",
    "plt.plot( 'Date','predicted_bias', data=plot_data, marker='', color='green', linewidth=2)\n",
    "plt.title('NVIDIA Stock Price Prediction with and without Bias')\n",
    "plt.legend()\n",
    "plt.show()"
   ]
  },
  {
   "cell_type": "markdown",
   "id": "1b35d6d0",
   "metadata": {},
   "source": [
    "With the bias, the linear regression is allowed to be shifted up or down as needed and does not need to be constrained to pass through the origin. Here it is a very minor difference but leads to a marginally better result.\n",
    "\n",
    "Time for finding the Root Mean Squared Error (RMSE)"
   ]
  },
  {
   "cell_type": "code",
   "execution_count": 64,
   "id": "484b5eca",
   "metadata": {},
   "outputs": [
    {
     "name": "stdout",
     "output_type": "stream",
     "text": [
      "In-Sample RMSE_without_bias =48.37879002877129\n",
      "In-Sample RMSE_with_bias =47.801518604128894\n"
     ]
    }
   ],
   "source": [
    "y_hat_1 = train_df[\"predicted\"].to_numpy()\n",
    "y_hat_2 = train_df[\"predicted_bias\"].to_numpy()\n",
    "\n",
    "def RMSE(labels, predicted):\n",
    "    return np.sqrt(np.mean((labels - predicted) @ (labels - predicted)))\n",
    "\n",
    "print(f'In-Sample RMSE_without_bias ={RMSE(y, y_hat_1)}')\n",
    "print(f'In-Sample RMSE_with_bias ={RMSE(y, y_hat_2)}')\n"
   ]
  },
  {
   "cell_type": "markdown",
   "id": "9b359033",
   "metadata": {},
   "source": [
    "We get a slightly better MSRE with bias which makes sense as the average data point is just a bit closer to the linear regression line when comparing with bias to without bias."
   ]
  },
  {
   "cell_type": "code",
   "execution_count": 65,
   "id": "d15d67bb",
   "metadata": {},
   "outputs": [
    {
     "name": "stderr",
     "output_type": "stream",
     "text": [
      "/var/folders/7t/w17knfdn36n_njq1kn6ytj_h0000gn/T/ipykernel_7641/99893962.py:5: SettingWithCopyWarning:\n",
      "\n",
      "\n",
      "A value is trying to be set on a copy of a slice from a DataFrame.\n",
      "Try using .loc[row_indexer,col_indexer] = value instead\n",
      "\n",
      "See the caveats in the documentation: https://pandas.pydata.org/pandas-docs/stable/user_guide/indexing.html#returning-a-view-versus-a-copy\n",
      "\n"
     ]
    },
    {
     "data": {
      "image/png": "[encoded data removed]",
      "text/plain": [
       "<Figure size 1440x640 with 1 Axes>"
      ]
     },
     "metadata": {},
     "output_type": "display_data"
    }
   ],
   "source": [
    "data[\"log_Close\"] = np.log(data[\"Close\"])\n",
    "\n",
    "figure(figsize=(18, 8), dpi=80)\n",
    "plot_data = data[['Close']]\n",
    "plot_data['Date'] = plot_data.index\n",
    "plt.plot( 'Date', 'Close', data= plot_data, marker='', markerfacecolor='blue', color='blue', linewidth=2)\n",
    "plt.legend()\n",
    "plt.show()"
   ]
  },
  {
   "cell_type": "markdown",
   "id": "9dcfff3e",
   "metadata": {},
   "source": [
    "Now I want to test my linear regression data. I will use the first half of 2025 and test it on that."
   ]
  },
  {
   "cell_type": "code",
   "execution_count": 66,
   "id": "3fb27033",
   "metadata": {},
   "outputs": [
    {
     "name": "stderr",
     "output_type": "stream",
     "text": [
      "/var/folders/7t/w17knfdn36n_njq1kn6ytj_h0000gn/T/ipykernel_7641/2056310760.py:1: FutureWarning:\n",
      "\n",
      "YF.download() has changed argument auto_adjust default to True\n",
      "\n",
      "[*********************100%***********************]  1 of 1 completed\n"
     ]
    },
    {
     "data": {
      "text/html": [
       "<div>\n",
       "<style scoped>\n",
       "    .dataframe tbody tr th:only-of-type {\n",
       "        vertical-align: middle;\n",
       "    }\n",
       "\n",
       "    .dataframe tbody tr th {\n",
       "        vertical-align: top;\n",
       "    }\n",
       "\n",
       "    .dataframe thead tr th {\n",
       "        text-align: left;\n",
       "    }\n",
       "\n",
       "    .dataframe thead tr:last-of-type th {\n",
       "        text-align: right;\n",
       "    }\n",
       "</style>\n",
       "<table border=\"1\" class=\"dataframe\">\n",
       "  <thead>\n",
       "    <tr>\n",
       "      <th>Price</th>\n",
       "      <th>Close</th>\n",
       "      <th>High</th>\n",
       "      <th>Low</th>\n",
       "      <th>Open</th>\n",
       "      <th>Volume</th>\n",
       "      <th>log_Close</th>\n",
       "    </tr>\n",
       "    <tr>\n",
       "      <th>Ticker</th>\n",
       "      <th>NVDA</th>\n",
       "      <th>NVDA</th>\n",
       "      <th>NVDA</th>\n",
       "      <th>NVDA</th>\n",
       "      <th>NVDA</th>\n",
       "      <th></th>\n",
       "    </tr>\n",
       "    <tr>\n",
       "      <th>Date</th>\n",
       "      <th></th>\n",
       "      <th></th>\n",
       "      <th></th>\n",
       "      <th></th>\n",
       "      <th></th>\n",
       "      <th></th>\n",
       "    </tr>\n",
       "  </thead>\n",
       "  <tbody>\n",
       "    <tr>\n",
       "      <th>2024-01-02</th>\n",
       "      <td>48.146576</td>\n",
       "      <td>49.273074</td>\n",
       "      <td>47.573833</td>\n",
       "      <td>49.222098</td>\n",
       "      <td>411254000</td>\n",
       "      <td>3.874250</td>\n",
       "    </tr>\n",
       "    <tr>\n",
       "      <th>2024-01-03</th>\n",
       "      <td>47.547836</td>\n",
       "      <td>48.162561</td>\n",
       "      <td>47.298947</td>\n",
       "      <td>47.463874</td>\n",
       "      <td>320896000</td>\n",
       "      <td>3.861736</td>\n",
       "    </tr>\n",
       "    <tr>\n",
       "      <th>2024-01-04</th>\n",
       "      <td>47.976654</td>\n",
       "      <td>48.478430</td>\n",
       "      <td>47.486870</td>\n",
       "      <td>47.745754</td>\n",
       "      <td>306535000</td>\n",
       "      <td>3.870715</td>\n",
       "    </tr>\n",
       "    <tr>\n",
       "      <th>2024-01-05</th>\n",
       "      <td>49.075161</td>\n",
       "      <td>49.524962</td>\n",
       "      <td>48.284512</td>\n",
       "      <td>48.440445</td>\n",
       "      <td>415039000</td>\n",
       "      <td>3.893353</td>\n",
       "    </tr>\n",
       "    <tr>\n",
       "      <th>2024-01-08</th>\n",
       "      <td>52.229755</td>\n",
       "      <td>52.251749</td>\n",
       "      <td>49.456991</td>\n",
       "      <td>49.489977</td>\n",
       "      <td>642510000</td>\n",
       "      <td>3.955652</td>\n",
       "    </tr>\n",
       "  </tbody>\n",
       "</table>\n",
       "</div>"
      ],
      "text/plain": [
       "Price           Close       High        Low       Open     Volume log_Close\n",
       "Ticker           NVDA       NVDA       NVDA       NVDA       NVDA          \n",
       "Date                                                                       \n",
       "2024-01-02  48.146576  49.273074  47.573833  49.222098  411254000  3.874250\n",
       "2024-01-03  47.547836  48.162561  47.298947  47.463874  320896000  3.861736\n",
       "2024-01-04  47.976654  48.478430  47.486870  47.745754  306535000  3.870715\n",
       "2024-01-05  49.075161  49.524962  48.284512  48.440445  415039000  3.893353\n",
       "2024-01-08  52.229755  52.251749  49.456991  49.489977  642510000  3.955652"
      ]
     },
     "execution_count": 66,
     "metadata": {},
     "output_type": "execute_result"
    }
   ],
   "source": [
    "test_data = yf.download('NVDA', start = '2025-01-01', end = '2025-06-15')\n",
    "data.head()"
   ]
  },
  {
   "cell_type": "markdown",
   "id": "df5dfa98",
   "metadata": {},
   "source": [
    "I will use the closing prices of earlier days to determine the closing price of later dates. The good thing is that the algorithm knows from training what weights to use. This will help it create a pretty good graph...better than the training."
   ]
  },
  {
   "cell_type": "code",
   "execution_count": 67,
   "id": "2eadb19c",
   "metadata": {},
   "outputs": [
    {
     "data": {
      "application/vnd.plotly.v1+json": {
       "config": {
        "plotlyServerURL": "https://plot.ly"
       },
       "data": [
        {
         "hovertemplate": "variable=Close<br>Date=%{x}<br>value=%{y}<extra></extra>",
         "legendgroup": "Close",
         "line": {
          "color": "#636efa",
          "dash": "solid"
         },
         "marker": {
          "symbol": "circle"
         },
         "mode": "lines",
         "name": "Close",
         "orientation": "v",
         "showlegend": true,
         "type": "scatter",
         "x": [
          "2025-01-14T00:00:00.000000000",
          "2025-01-15T00:00:00.000000000",
          "2025-01-16T00:00:00.000000000",
          "2025-01-17T00:00:00.000000000",
          "2025-01-21T00:00:00.000000000",
          "2025-01-22T00:00:00.000000000",
          "2025-01-23T00:00:00.000000000",
          "2025-01-24T00:00:00.000000000",
          "2025-01-27T00:00:00.000000000",
          "2025-01-28T00:00:00.000000000",
          "2025-01-29T00:00:00.000000000",
          "2025-01-30T00:00:00.000000000",
          "2025-01-31T00:00:00.000000000",
          "2025-02-03T00:00:00.000000000",
          "2025-02-04T00:00:00.000000000",
          "2025-02-05T00:00:00.000000000",
          "2025-02-06T00:00:00.000000000",
          "2025-02-07T00:00:00.000000000",
          "2025-02-10T00:00:00.000000000",
          "2025-02-11T00:00:00.000000000",
          "2025-02-12T00:00:00.000000000",
          "2025-02-13T00:00:00.000000000",
          "2025-02-14T00:00:00.000000000",
          "2025-02-18T00:00:00.000000000",
          "2025-02-19T00:00:00.000000000",
          "2025-02-20T00:00:00.000000000",
          "2025-02-21T00:00:00.000000000",
          "2025-02-24T00:00:00.000000000",
          "2025-02-25T00:00:00.000000000",
          "2025-02-26T00:00:00.000000000",
          "2025-02-27T00:00:00.000000000",
          "2025-02-28T00:00:00.000000000",
          "2025-03-03T00:00:00.000000000",
          "2025-03-04T00:00:00.000000000",
          "2025-03-05T00:00:00.000000000",
          "2025-03-06T00:00:00.000000000",
          "2025-03-07T00:00:00.000000000",
          "2025-03-10T00:00:00.000000000",
          "2025-03-11T00:00:00.000000000",
          "2025-03-12T00:00:00.000000000",
          "2025-03-13T00:00:00.000000000",
          "2025-03-14T00:00:00.000000000",
          "2025-03-17T00:00:00.000000000",
          "2025-03-18T00:00:00.000000000",
          "2025-03-19T00:00:00.000000000",
          "2025-03-20T00:00:00.000000000",
          "2025-03-21T00:00:00.000000000",
          "2025-03-24T00:00:00.000000000",
          "2025-03-25T00:00:00.000000000",
          "2025-03-26T00:00:00.000000000",
          "2025-03-27T00:00:00.000000000",
          "2025-03-28T00:00:00.000000000",
          "2025-03-31T00:00:00.000000000",
          "2025-04-01T00:00:00.000000000",
          "2025-04-02T00:00:00.000000000",
          "2025-04-03T00:00:00.000000000",
          "2025-04-04T00:00:00.000000000",
          "2025-04-07T00:00:00.000000000",
          "2025-04-08T00:00:00.000000000",
          "2025-04-09T00:00:00.000000000",
          "2025-04-10T00:00:00.000000000",
          "2025-04-11T00:00:00.000000000",
          "2025-04-14T00:00:00.000000000",
          "2025-04-15T00:00:00.000000000",
          "2025-04-16T00:00:00.000000000",
          "2025-04-17T00:00:00.000000000",
          "2025-04-21T00:00:00.000000000",
          "2025-04-22T00:00:00.000000000",
          "2025-04-23T00:00:00.000000000",
          "2025-04-24T00:00:00.000000000",
          "2025-04-25T00:00:00.000000000",
          "2025-04-28T00:00:00.000000000",
          "2025-04-29T00:00:00.000000000",
          "2025-04-30T00:00:00.000000000",
          "2025-05-01T00:00:00.000000000",
          "2025-05-02T00:00:00.000000000",
          "2025-05-05T00:00:00.000000000",
          "2025-05-06T00:00:00.000000000",
          "2025-05-07T00:00:00.000000000",
          "2025-05-08T00:00:00.000000000",
          "2025-05-09T00:00:00.000000000",
          "2025-05-12T00:00:00.000000000",
          "2025-05-13T00:00:00.000000000",
          "2025-05-14T00:00:00.000000000",
          "2025-05-15T00:00:00.000000000",
          "2025-05-16T00:00:00.000000000",
          "2025-05-19T00:00:00.000000000",
          "2025-05-20T00:00:00.000000000",
          "2025-05-21T00:00:00.000000000",
          "2025-05-22T00:00:00.000000000",
          "2025-05-23T00:00:00.000000000",
          "2025-05-27T00:00:00.000000000",
          "2025-05-28T00:00:00.000000000",
          "2025-05-29T00:00:00.000000000",
          "2025-05-30T00:00:00.000000000",
          "2025-06-02T00:00:00.000000000",
          "2025-06-03T00:00:00.000000000",
          "2025-06-04T00:00:00.000000000",
          "2025-06-05T00:00:00.000000000",
          "2025-06-06T00:00:00.000000000",
          "2025-06-09T00:00:00.000000000",
          "2025-06-10T00:00:00.000000000",
          "2025-06-11T00:00:00.000000000",
          "2025-06-12T00:00:00.000000000",
          "2025-06-13T00:00:00.000000000"
         ],
         "xaxis": "x",
         "y": {
          "bdata": "AAAAoKN3YEAAAAAA+gZhQAAAAOCMsWBAAAAAQAI2YUAAAAAg1ZlhQAAAACB7YWJAAAAAoEdmYkAAAABgGtNhQAAAACComV1AAAAAoAMfYEAAAACgheteQAAAAOBPKF9AAAAAYD0DXkAAAAAACSldQAAAAOBfqF1AAAAAoNQzX0AAAABAGBVgQAAAAIA1OmBAAAAA4IyxYEAAAAAg6phgQAAAAIDNY2BAAAAAwJToYEAAAACge1phQAAAAIAUbGFAAAAAAKRmYUAAAADgy4JhQAAAAMAQzWBAAAAAgElIYEAAAAAAA6dfQAAAAEBIaGBAAAAA4FsIXkAAAADgljlfQAAAAGCpglxAAAAAYCn+XEAAAAAA/VFdQAAAAIBWo1tAAAAAAP8qXEAAAABgnb1aQAAAAECEL1tAAAAAgNjuXEAAAABAm+RcQAAAAOBWal5AAAAAgGPhXUAAAADAAdtcQAAAAODBYF1AAAAAoGShXUAAAADgRmxdQAAAAGCzWV5AAAAAwJ8rXkAAAACAInBcQAAAAGAG21tAAAAAgGRqW0AAAACg1hdbQAAAAEAciVtAAAAAoGOaW0AAAABgv3JZQAAAAMBrk1dAAAAAoIZoWEAAAADAxRJYQAAAAKCclFxAAAAAgADkWkAAAADgBrtbQAAAAKDyrFtAAAAAIE0MXEAAAABA5R5aQAAAAKDoXllAAAAAQM85WEAAAABAhbhYQAAAAMD7rFlAAAAAAAybWkAAAACgJcBbQAAAAKA8LltAAAAAoMtAW0AAAABgZTpbQAAAAECL5ltAAAAAwH2fXEAAAABg+XNcQAAAAEAOYlxAAAAA4FFDXUAAAACgKFddQAAAAOAUKV1AAAAAIHS/XkAAAACgeD1gQAAAAECU6mBAAAAAoELaYEAAAADAf+xgQAAAAGDw8WBAAAAAgNzLYEAAAACgTnlgQAAAAOBDmmBAAAAAAP1oYEAAAADgsu9gQAAAAOCe2WBAAAAAYMVlYUAAAAAg3ONgQAAAAODaK2FAAAAA4LmmYUAAAADgH71hQAAAAIBef2FAAAAAoLm2YUAAAADg19NhQAAAAIBm/mFAAAAAYI/aYUAAAAAAACBiQAAAAEAKv2FA",
          "dtype": "f8"
         },
         "yaxis": "y"
        },
        {
         "hovertemplate": "variable=predictions<br>Date=%{x}<br>value=%{y}<extra></extra>",
         "legendgroup": "predictions",
         "line": {
          "color": "#EF553B",
          "dash": "solid"
         },
         "marker": {
          "symbol": "circle"
         },
         "mode": "lines",
         "name": "predictions",
         "orientation": "v",
         "showlegend": true,
         "type": "scatter",
         "x": [
          "2025-01-14T00:00:00.000000000",
          "2025-01-15T00:00:00.000000000",
          "2025-01-16T00:00:00.000000000",
          "2025-01-17T00:00:00.000000000",
          "2025-01-21T00:00:00.000000000",
          "2025-01-22T00:00:00.000000000",
          "2025-01-23T00:00:00.000000000",
          "2025-01-24T00:00:00.000000000",
          "2025-01-27T00:00:00.000000000",
          "2025-01-28T00:00:00.000000000",
          "2025-01-29T00:00:00.000000000",
          "2025-01-30T00:00:00.000000000",
          "2025-01-31T00:00:00.000000000",
          "2025-02-03T00:00:00.000000000",
          "2025-02-04T00:00:00.000000000",
          "2025-02-05T00:00:00.000000000",
          "2025-02-06T00:00:00.000000000",
          "2025-02-07T00:00:00.000000000",
          "2025-02-10T00:00:00.000000000",
          "2025-02-11T00:00:00.000000000",
          "2025-02-12T00:00:00.000000000",
          "2025-02-13T00:00:00.000000000",
          "2025-02-14T00:00:00.000000000",
          "2025-02-18T00:00:00.000000000",
          "2025-02-19T00:00:00.000000000",
          "2025-02-20T00:00:00.000000000",
          "2025-02-21T00:00:00.000000000",
          "2025-02-24T00:00:00.000000000",
          "2025-02-25T00:00:00.000000000",
          "2025-02-26T00:00:00.000000000",
          "2025-02-27T00:00:00.000000000",
          "2025-02-28T00:00:00.000000000",
          "2025-03-03T00:00:00.000000000",
          "2025-03-04T00:00:00.000000000",
          "2025-03-05T00:00:00.000000000",
          "2025-03-06T00:00:00.000000000",
          "2025-03-07T00:00:00.000000000",
          "2025-03-10T00:00:00.000000000",
          "2025-03-11T00:00:00.000000000",
          "2025-03-12T00:00:00.000000000",
          "2025-03-13T00:00:00.000000000",
          "2025-03-14T00:00:00.000000000",
          "2025-03-17T00:00:00.000000000",
          "2025-03-18T00:00:00.000000000",
          "2025-03-19T00:00:00.000000000",
          "2025-03-20T00:00:00.000000000",
          "2025-03-21T00:00:00.000000000",
          "2025-03-24T00:00:00.000000000",
          "2025-03-25T00:00:00.000000000",
          "2025-03-26T00:00:00.000000000",
          "2025-03-27T00:00:00.000000000",
          "2025-03-28T00:00:00.000000000",
          "2025-03-31T00:00:00.000000000",
          "2025-04-01T00:00:00.000000000",
          "2025-04-02T00:00:00.000000000",
          "2025-04-03T00:00:00.000000000",
          "2025-04-04T00:00:00.000000000",
          "2025-04-07T00:00:00.000000000",
          "2025-04-08T00:00:00.000000000",
          "2025-04-09T00:00:00.000000000",
          "2025-04-10T00:00:00.000000000",
          "2025-04-11T00:00:00.000000000",
          "2025-04-14T00:00:00.000000000",
          "2025-04-15T00:00:00.000000000",
          "2025-04-16T00:00:00.000000000",
          "2025-04-17T00:00:00.000000000",
          "2025-04-21T00:00:00.000000000",
          "2025-04-22T00:00:00.000000000",
          "2025-04-23T00:00:00.000000000",
          "2025-04-24T00:00:00.000000000",
          "2025-04-25T00:00:00.000000000",
          "2025-04-28T00:00:00.000000000",
          "2025-04-29T00:00:00.000000000",
          "2025-04-30T00:00:00.000000000",
          "2025-05-01T00:00:00.000000000",
          "2025-05-02T00:00:00.000000000",
          "2025-05-05T00:00:00.000000000",
          "2025-05-06T00:00:00.000000000",
          "2025-05-07T00:00:00.000000000",
          "2025-05-08T00:00:00.000000000",
          "2025-05-09T00:00:00.000000000",
          "2025-05-12T00:00:00.000000000",
          "2025-05-13T00:00:00.000000000",
          "2025-05-14T00:00:00.000000000",
          "2025-05-15T00:00:00.000000000",
          "2025-05-16T00:00:00.000000000",
          "2025-05-19T00:00:00.000000000",
          "2025-05-20T00:00:00.000000000",
          "2025-05-21T00:00:00.000000000",
          "2025-05-22T00:00:00.000000000",
          "2025-05-23T00:00:00.000000000",
          "2025-05-27T00:00:00.000000000",
          "2025-05-28T00:00:00.000000000",
          "2025-05-29T00:00:00.000000000",
          "2025-05-30T00:00:00.000000000",
          "2025-06-02T00:00:00.000000000",
          "2025-06-03T00:00:00.000000000",
          "2025-06-04T00:00:00.000000000",
          "2025-06-05T00:00:00.000000000",
          "2025-06-06T00:00:00.000000000",
          "2025-06-09T00:00:00.000000000",
          "2025-06-10T00:00:00.000000000",
          "2025-06-11T00:00:00.000000000",
          "2025-06-12T00:00:00.000000000",
          "2025-06-13T00:00:00.000000000"
         ],
         "xaxis": "x",
         "y": {
          "bdata": "Zg/gjMB9YEA3cIBIboZgQKnBVwYi4GBAsKQ5lBrBYEDKzBmLSBZhQJnKnb25lGFAIeP8tJwsYkBBPc0LFm1iQCR7j2MEymFA7wzLxIwuXkAfwmYHj1NfQAI+XXM7N19Anj5ehKu9XkD9bJdxWMxeQNZYHjci31xAtyR4DlGrXUDP7iTr0/ReQFqA7zdPFGBAelou5idBYEAGCh01DaBgQE9vYNxUj2BAWL499MJUYEDbABERTM1gQOMiqeMePmFAFUkXnD1hYUA21BALr2NhQDJRyPMpamFARank8V/OYEB16QHuIz5gQChqyT/Hpl9At4cgbdU6YEBWRJXxzXleQCYUkHC5315AFIJFGMkSXUAEgM+B7HxcQPGnEQanpF1AzId79/CgW0CCYZLTEENcQIJGuLId+1pAPuHRTrb0WkCgb3LOxfdcQK2lG0re6FxAjIsJG/RZXkAKzA31LRheQDvkQrZJxlxA3FcPWdZVXUCMzEqL8nxdQPCphISqcl1AjjgoQLRSXkDuWP4c8zVeQBSa3zA9l1xAsA/ylA/kW0DAJKSWyWNbQPBgTNdwEltAq/JR0cqeW0BQ4a1vT7FbQFpCRiclyVlA7JLR+ivLV0DD6hXLxkVYQKI8ht6WLlhAZHwSiQ0oXEBDQK7f0KlbQMCYxbwZa1tA5BUFoskQXEB4D/BNIo5bQBZ+82kBnlpAWZkbuSFRWUCGd616tXJYQLeUSOAJjlhAtMKbmAvSWUBDu9xRV6FaQBxgT3/D11tAKuOyDsFfW0DYws5hMDVbQBIhwyFwRVtAAzT57Pu6W0Dpuvckm6lcQPZsATuZh1xA4IjAHwtuXEBSXuJMyiVdQELBkp0IVF1AwOFPSSQxXUAx2Y4XaJVeQBz68IH+ImBAT5kgQtDXYECCFq7tYOdgQFsbKHfn1WBA+Er9Iu7cYED39nXkDLVgQBZlyVitd2BAx2FyVMmEYECo/3m/OGVgQLWBK94sz2BABtBGc9PiYED7fV7k7T5hQD6j6fRj+2BA87gD45H+YEC5tLior5hhQK7zXEIvn2FAYPl8fIqFYUC1q+a+TZthQAoxui2YumFA0i547q/jYUCMfCChmNdhQJWRgyXp/mFA",
          "dtype": "f8"
         },
         "yaxis": "y"
        }
       ],
       "layout": {
        "legend": {
         "title": {
          "text": "variable"
         },
         "tracegroupgap": 0
        },
        "margin": {
         "t": 60
        },
        "template": {
         "data": {
          "bar": [
           {
            "error_x": {
             "color": "#2a3f5f"
            },
            "error_y": {
             "color": "#2a3f5f"
            },
            "marker": {
             "line": {
              "color": "#E5ECF6",
              "width": 0.5
             },
             "pattern": {
              "fillmode": "overlay",
              "size": 10,
              "solidity": 0.2
             }
            },
            "type": "bar"
           }
          ],
          "barpolar": [
           {
            "marker": {
             "line": {
              "color": "#E5ECF6",
              "width": 0.5
             },
             "pattern": {
              "fillmode": "overlay",
              "size": 10,
              "solidity": 0.2
             }
            },
            "type": "barpolar"
           }
          ],
          "carpet": [
           {
            "aaxis": {
             "endlinecolor": "#2a3f5f",
             "gridcolor": "white",
             "linecolor": "white",
             "minorgridcolor": "white",
             "startlinecolor": "#2a3f5f"
            },
            "baxis": {
             "endlinecolor": "#2a3f5f",
             "gridcolor": "white",
             "linecolor": "white",
             "minorgridcolor": "white",
             "startlinecolor": "#2a3f5f"
            },
            "type": "carpet"
           }
          ],
          "choropleth": [
           {
            "colorbar": {
             "outlinewidth": 0,
             "ticks": ""
            },
            "type": "choropleth"
           }
          ],
          "contour": [
           {
            "colorbar": {
             "outlinewidth": 0,
             "ticks": ""
            },
            "colorscale": [
             [
              0,
              "#0d0887"
             ],
             [
              0.1111111111111111,
              "#46039f"
             ],
             [
              0.2222222222222222,
              "#7201a8"
             ],
             [
              0.3333333333333333,
              "#9c179e"
             ],
             [
              0.4444444444444444,
              "#bd3786"
             ],
             [
              0.5555555555555556,
              "#d8576b"
             ],
             [
              0.6666666666666666,
              "#ed7953"
             ],
             [
              0.7777777777777778,
              "#fb9f3a"
             ],
             [
              0.8888888888888888,
              "#fdca26"
             ],
             [
              1,
              "#f0f921"
             ]
            ],
            "type": "contour"
           }
          ],
          "contourcarpet": [
           {
            "colorbar": {
             "outlinewidth": 0,
             "ticks": ""
            },
            "type": "contourcarpet"
           }
          ],
          "heatmap": [
           {
            "colorbar": {
             "outlinewidth": 0,
             "ticks": ""
            },
            "colorscale": [
             [
              0,
              "#0d0887"
             ],
             [
              0.1111111111111111,
              "#46039f"
             ],
             [
              0.2222222222222222,
              "#7201a8"
             ],
             [
              0.3333333333333333,
              "#9c179e"
             ],
             [
              0.4444444444444444,
              "#bd3786"
             ],
             [
              0.5555555555555556,
              "#d8576b"
             ],
             [
              0.6666666666666666,
              "#ed7953"
             ],
             [
              0.7777777777777778,
              "#fb9f3a"
             ],
             [
              0.8888888888888888,
              "#fdca26"
             ],
             [
              1,
              "#f0f921"
             ]
            ],
            "type": "heatmap"
           }
          ],
          "histogram": [
           {
            "marker": {
             "pattern": {
              "fillmode": "overlay",
              "size": 10,
              "solidity": 0.2
             }
            },
            "type": "histogram"
           }
          ],
          "histogram2d": [
           {
            "colorbar": {
             "outlinewidth": 0,
             "ticks": ""
            },
            "colorscale": [
             [
              0,
              "#0d0887"
             ],
             [
              0.1111111111111111,
              "#46039f"
             ],
             [
              0.2222222222222222,
              "#7201a8"
             ],
             [
              0.3333333333333333,
              "#9c179e"
             ],
             [
              0.4444444444444444,
              "#bd3786"
             ],
             [
              0.5555555555555556,
              "#d8576b"
             ],
             [
              0.6666666666666666,
              "#ed7953"
             ],
             [
              0.7777777777777778,
              "#fb9f3a"
             ],
             [
              0.8888888888888888,
              "#fdca26"
             ],
             [
              1,
              "#f0f921"
             ]
            ],
            "type": "histogram2d"
           }
          ],
          "histogram2dcontour": [
           {
            "colorbar": {
             "outlinewidth": 0,
             "ticks": ""
            },
            "colorscale": [
             [
              0,
              "#0d0887"
             ],
             [
              0.1111111111111111,
              "#46039f"
             ],
             [
              0.2222222222222222,
              "#7201a8"
             ],
             [
              0.3333333333333333,
              "#9c179e"
             ],
             [
              0.4444444444444444,
              "#bd3786"
             ],
             [
              0.5555555555555556,
              "#d8576b"
             ],
             [
              0.6666666666666666,
              "#ed7953"
             ],
             [
              0.7777777777777778,
              "#fb9f3a"
             ],
             [
              0.8888888888888888,
              "#fdca26"
             ],
             [
              1,
              "#f0f921"
             ]
            ],
            "type": "histogram2dcontour"
           }
          ],
          "mesh3d": [
           {
            "colorbar": {
             "outlinewidth": 0,
             "ticks": ""
            },
            "type": "mesh3d"
           }
          ],
          "parcoords": [
           {
            "line": {
             "colorbar": {
              "outlinewidth": 0,
              "ticks": ""
             }
            },
            "type": "parcoords"
           }
          ],
          "pie": [
           {
            "automargin": true,
            "type": "pie"
           }
          ],
          "scatter": [
           {
            "fillpattern": {
             "fillmode": "overlay",
             "size": 10,
             "solidity": 0.2
            },
            "type": "scatter"
           }
          ],
          "scatter3d": [
           {
            "line": {
             "colorbar": {
              "outlinewidth": 0,
              "ticks": ""
             }
            },
            "marker": {
             "colorbar": {
              "outlinewidth": 0,
              "ticks": ""
             }
            },
            "type": "scatter3d"
           }
          ],
          "scattercarpet": [
           {
            "marker": {
             "colorbar": {
              "outlinewidth": 0,
              "ticks": ""
             }
            },
            "type": "scattercarpet"
           }
          ],
          "scattergeo": [
           {
            "marker": {
             "colorbar": {
              "outlinewidth": 0,
              "ticks": ""
             }
            },
            "type": "scattergeo"
           }
          ],
          "scattergl": [
           {
            "marker": {
             "colorbar": {
              "outlinewidth": 0,
              "ticks": ""
             }
            },
            "type": "scattergl"
           }
          ],
          "scattermap": [
           {
            "marker": {
             "colorbar": {
              "outlinewidth": 0,
              "ticks": ""
             }
            },
            "type": "scattermap"
           }
          ],
          "scattermapbox": [
           {
            "marker": {
             "colorbar": {
              "outlinewidth": 0,
              "ticks": ""
             }
            },
            "type": "scattermapbox"
           }
          ],
          "scatterpolar": [
           {
            "marker": {
             "colorbar": {
              "outlinewidth": 0,
              "ticks": ""
             }
            },
            "type": "scatterpolar"
           }
          ],
          "scatterpolargl": [
           {
            "marker": {
             "colorbar": {
              "outlinewidth": 0,
              "ticks": ""
             }
            },
            "type": "scatterpolargl"
           }
          ],
          "scatterternary": [
           {
            "marker": {
             "colorbar": {
              "outlinewidth": 0,
              "ticks": ""
             }
            },
            "type": "scatterternary"
           }
          ],
          "surface": [
           {
            "colorbar": {
             "outlinewidth": 0,
             "ticks": ""
            },
            "colorscale": [
             [
              0,
              "#0d0887"
             ],
             [
              0.1111111111111111,
              "#46039f"
             ],
             [
              0.2222222222222222,
              "#7201a8"
             ],
             [
              0.3333333333333333,
              "#9c179e"
             ],
             [
              0.4444444444444444,
              "#bd3786"
             ],
             [
              0.5555555555555556,
              "#d8576b"
             ],
             [
              0.6666666666666666,
              "#ed7953"
             ],
             [
              0.7777777777777778,
              "#fb9f3a"
             ],
             [
              0.8888888888888888,
              "#fdca26"
             ],
             [
              1,
              "#f0f921"
             ]
            ],
            "type": "surface"
           }
          ],
          "table": [
           {
            "cells": {
             "fill": {
              "color": "#EBF0F8"
             },
             "line": {
              "color": "white"
             }
            },
            "header": {
             "fill": {
              "color": "#C8D4E3"
             },
             "line": {
              "color": "white"
             }
            },
            "type": "table"
           }
          ]
         },
         "layout": {
          "annotationdefaults": {
           "arrowcolor": "#2a3f5f",
           "arrowhead": 0,
           "arrowwidth": 1
          },
          "autotypenumbers": "strict",
          "coloraxis": {
           "colorbar": {
            "outlinewidth": 0,
            "ticks": ""
           }
          },
          "colorscale": {
           "diverging": [
            [
             0,
             "#8e0152"
            ],
            [
             0.1,
             "#c51b7d"
            ],
            [
             0.2,
             "#de77ae"
            ],
            [
             0.3,
             "#f1b6da"
            ],
            [
             0.4,
             "#fde0ef"
            ],
            [
             0.5,
             "#f7f7f7"
            ],
            [
             0.6,
             "#e6f5d0"
            ],
            [
             0.7,
             "#b8e186"
            ],
            [
             0.8,
             "#7fbc41"
            ],
            [
             0.9,
             "#4d9221"
            ],
            [
             1,
             "#276419"
            ]
           ],
           "sequential": [
            [
             0,
             "#0d0887"
            ],
            [
             0.1111111111111111,
             "#46039f"
            ],
            [
             0.2222222222222222,
             "#7201a8"
            ],
            [
             0.3333333333333333,
             "#9c179e"
            ],
            [
             0.4444444444444444,
             "#bd3786"
            ],
            [
             0.5555555555555556,
             "#d8576b"
            ],
            [
             0.6666666666666666,
             "#ed7953"
            ],
            [
             0.7777777777777778,
             "#fb9f3a"
            ],
            [
             0.8888888888888888,
             "#fdca26"
            ],
            [
             1,
             "#f0f921"
            ]
           ],
           "sequentialminus": [
            [
             0,
             "#0d0887"
            ],
            [
             0.1111111111111111,
             "#46039f"
            ],
            [
             0.2222222222222222,
             "#7201a8"
            ],
            [
             0.3333333333333333,
             "#9c179e"
            ],
            [
             0.4444444444444444,
             "#bd3786"
            ],
            [
             0.5555555555555556,
             "#d8576b"
            ],
            [
             0.6666666666666666,
             "#ed7953"
            ],
            [
             0.7777777777777778,
             "#fb9f3a"
            ],
            [
             0.8888888888888888,
             "#fdca26"
            ],
            [
             1,
             "#f0f921"
            ]
           ]
          },
          "colorway": [
           "#636efa",
           "#EF553B",
           "#00cc96",
           "#ab63fa",
           "#FFA15A",
           "#19d3f3",
           "#FF6692",
           "#B6E880",
           "#FF97FF",
           "#FECB52"
          ],
          "font": {
           "color": "#2a3f5f"
          },
          "geo": {
           "bgcolor": "white",
           "lakecolor": "white",
           "landcolor": "#E5ECF6",
           "showlakes": true,
           "showland": true,
           "subunitcolor": "white"
          },
          "hoverlabel": {
           "align": "left"
          },
          "hovermode": "closest",
          "mapbox": {
           "style": "light"
          },
          "paper_bgcolor": "white",
          "plot_bgcolor": "#E5ECF6",
          "polar": {
           "angularaxis": {
            "gridcolor": "white",
            "linecolor": "white",
            "ticks": ""
           },
           "bgcolor": "#E5ECF6",
           "radialaxis": {
            "gridcolor": "white",
            "linecolor": "white",
            "ticks": ""
           }
          },
          "scene": {
           "xaxis": {
            "backgroundcolor": "#E5ECF6",
            "gridcolor": "white",
            "gridwidth": 2,
            "linecolor": "white",
            "showbackground": true,
            "ticks": "",
            "zerolinecolor": "white"
           },
           "yaxis": {
            "backgroundcolor": "#E5ECF6",
            "gridcolor": "white",
            "gridwidth": 2,
            "linecolor": "white",
            "showbackground": true,
            "ticks": "",
            "zerolinecolor": "white"
           },
           "zaxis": {
            "backgroundcolor": "#E5ECF6",
            "gridcolor": "white",
            "gridwidth": 2,
            "linecolor": "white",
            "showbackground": true,
            "ticks": "",
            "zerolinecolor": "white"
           }
          },
          "shapedefaults": {
           "line": {
            "color": "#2a3f5f"
           }
          },
          "ternary": {
           "aaxis": {
            "gridcolor": "white",
            "linecolor": "white",
            "ticks": ""
           },
           "baxis": {
            "gridcolor": "white",
            "linecolor": "white",
            "ticks": ""
           },
           "bgcolor": "#E5ECF6",
           "caxis": {
            "gridcolor": "white",
            "linecolor": "white",
            "ticks": ""
           }
          },
          "title": {
           "x": 0.05
          },
          "xaxis": {
           "automargin": true,
           "gridcolor": "white",
           "linecolor": "white",
           "ticks": "",
           "title": {
            "standoff": 15
           },
           "zerolinecolor": "white",
           "zerolinewidth": 2
          },
          "yaxis": {
           "automargin": true,
           "gridcolor": "white",
           "linecolor": "white",
           "ticks": "",
           "title": {
            "standoff": 15
           },
           "zerolinecolor": "white",
           "zerolinewidth": 2
          }
         }
        },
        "xaxis": {
         "anchor": "y",
         "domain": [
          0,
          1
         ],
         "title": {
          "text": "Date"
         }
        },
        "yaxis": {
         "anchor": "x",
         "domain": [
          0,
          1
         ],
         "title": {
          "text": "value"
         }
        }
       }
      }
     },
     "metadata": {},
     "output_type": "display_data"
    }
   ],
   "source": [
    "for i in range(1, 8):\n",
    "\ttest_data[f'lag_{i}'] = test_data[('Close', 'NVDA')].shift(i)\n",
    "\n",
    "test_data['ones'] = 1.0\n",
    "\n",
    "test_data_lagged = test_data.dropna().copy()\n",
    "\n",
    "test_X = test_data_lagged[cols].to_numpy()\n",
    "\n",
    "# Predict using the weights from training\n",
    "pred_test_y = test_X @ w_hat_bias\n",
    "\n",
    "test_data_lagged[\"predictions\"] = pred_test_y\n",
    "\n",
    "df_plot = test_data_lagged.reset_index()\n",
    "df_plot.columns = ['Date'] + [col[0] if isinstance(col, tuple) else col for col in df_plot.columns[1:]]\n",
    "\n",
    "fig = px.line(\n",
    "    df_plot,\n",
    "    x='Date',\n",
    "    y=['Close', 'predictions'],\n",
    "    labels={'Close': 'Actual Close', 'predictions': 'Predicted Close'}\n",
    ")\n",
    "fig.show()"
   ]
  },
  {
   "cell_type": "code",
   "execution_count": 68,
   "id": "671569a3",
   "metadata": {},
   "outputs": [
    {
     "name": "stdout",
     "output_type": "stream",
     "text": [
      "Test RMSE = 4.826614050586123\n"
     ]
    }
   ],
   "source": [
    "y_hat_3 = test_data_lagged[\"predictions\"].to_numpy()\n",
    "y_test = test_data_lagged[(\"Close\", \"NVDA\")].to_numpy()  # actual test labels\n",
    "\n",
    "def RMSE(labels, predicted):\n",
    "    return np.sqrt(np.mean((labels - predicted) ** 2))\n",
    "\n",
    "print(f'Test RMSE = {RMSE(y_test, y_hat_3)}')\n"
   ]
  },
  {
   "cell_type": "markdown",
   "id": "2c5ce975",
   "metadata": {},
   "source": [
    "We get a really small RMSE compared to the training data which means our algorithm learned and was able to get a pretty good linear regression line. Although this shouldn't be completely relied on for making financial decisions, it is a pretty good way of getting an idea of what the stock will do. This is useful for casual investors as well as the high-end investing firms for determining future stock performance."
   ]
  }
 ],
 "metadata": {
  "kernelspec": {
   "display_name": ".venv",
   "language": "python",
   "name": "python3"
  },
  "language_info": {
   "codemirror_mode": {
    "name": "ipython",
    "version": 3
   },
   "file_extension": ".py",
   "mimetype": "text/x-python",
   "name": "python",
   "nbconvert_exporter": "python",
   "pygments_lexer": "ipython3",
   "version": "3.11.4"
  }
 },
 "nbformat": 4,
 "nbformat_minor": 5
}
